{
 "cells": [
  {
   "cell_type": "markdown",
   "metadata": {},
   "source": [
    "<hr style=\"border:2px solid gray\"> </hr>\n",
    "\n",
    "# Preprocessing\n",
    "\n",
    "## Author : Huisung Son\n",
    "\n",
    "<hr style=\"border:2px solid gray\"> </hr>"
   ]
  },
  {
   "source": [
    "# Step 0. Import Packages and Variables"
   ],
   "cell_type": "markdown",
   "metadata": {}
  },
  {
   "cell_type": "code",
   "execution_count": null,
   "metadata": {},
   "outputs": [],
   "source": [
    "# package list\n",
    "import os, glob, numpy as np\n",
    "from PIL import Image\n",
    "from sklearn.model_selection import train_test_split\n",
    "from tensorflow.keras.preprocessing.image import ImageDataGenerator\n",
    "from numpy import expand_dims\n",
    "import h5py\n",
    "\n",
    "img_path = './image'\n",
    "category_file_name = 'Categories.txt'\n",
    "train_name = 'train.hdf5'\n",
    "test_name = 'test.hdf5'\n",
    "data_name = 'data.hdf5'\n",
    "\n",
    "image_h = 220\n",
    "image_w = 220\n",
    "pixels = image_h * image_w * 3\n",
    "\n",
    "categories = []"
   ]
  },
  {
   "source": [
    "# Step 1. Load Category File"
   ],
   "cell_type": "markdown",
   "metadata": {}
  },
  {
   "cell_type": "code",
   "execution_count": null,
   "metadata": {},
   "outputs": [],
   "source": [
    "def NormalizeLabel(Label):\n",
    "    arr = [0 for i in range(classes)]\n",
    "    arr[Label] = 1\n",
    "    return arr"
   ]
  },
  {
   "cell_type": "code",
   "execution_count": null,
   "metadata": {},
   "outputs": [],
   "source": [
    "import codecs\n",
    "category_file = codecs.open(category_file_name, 'r', 'utf-8')\n",
    "categories = list(map(str.strip, category_file.readlines()))\n",
    "classes = len(categories)"
   ]
  },
  {
   "source": [
    "# Step 2. Load Image, Preprocess, and Save"
   ],
   "cell_type": "markdown",
   "metadata": {}
  },
  {
   "cell_type": "code",
   "execution_count": null,
   "metadata": {
    "tags": []
   },
   "outputs": [],
   "source": [
    "X = []\n",
    "y = []\n",
    "\n",
    "for idx, cat in enumerate(categories):\n",
    "    label = NormalizeLabel(idx)\n",
    "\n",
    "    img_name = img_path+'/'+cat+'/'\n",
    "    files = glob.glob(img_name+'*.jpg')\n",
    "    print(cat + ' '*(10 - 2*len(cat)) + \" 파일 길이 : \", len(files))\n",
    "\n",
    "    for i, f in enumerate(files):\n",
    "        img = Image.open(f)\n",
    "        img = img.convert(\"RGB\")\n",
    "        _x = np.random.randint(img.size[0] - image_h) if img.size[0] > image_h else 0\n",
    "        _y = np.random.randint(img.size[1] - image_w) if img.size[1] > image_w else 0\n",
    "        img = img.crop((_x,_y, 500 if img.size[0] > 500 + _x else img.size[0], 500 if img.size[1] > 500 + _x else img.size[1]))\n",
    "        img = img.resize((image_w, image_h))\n",
    "\n",
    "        data = np.asarray(img)\n",
    "        X.append(data)\n",
    "        y.append(label)\n",
    "\n",
    "X = np.array(X)\n",
    "y = np.array(y)\n",
    "# X_train, X_test, y_train, y_test = train_test_split(X, y)\n",
    "\n",
    "# with h5py.File(train_name, 'w') as f:\n",
    "#      f.create_dataset('X', X_train.shape, data=X_train)\n",
    "#      f.create_dataset('y', y_train.shape, data=y_train)\n",
    "\n",
    "# with h5py.File(test_name, 'w') as f:\n",
    "#     f.create_dataset('X', X_test.shape, data=X_test)\n",
    "#     f.create_dataset('y', y_test.shape, data=y_test)\n",
    "\n",
    "# print(\"Save Done : Total\", len(y), 'Files')"
   ]
  },
  {
   "cell_type": "code",
   "execution_count": null,
   "metadata": {},
   "outputs": [],
   "source": [
    "with h5py.File('data.hdf5', 'w') as f:\n",
    "    f.create_dataset('X', X.shape, data=X)\n",
    "    f.create_dataset('y', y.shape, data=y)\n",
    "\n",
    "print(\"Save Done : Total\", len(y), 'Files')"
   ]
  },
  {
   "source": [
    "# Step 3"
   ],
   "cell_type": "markdown",
   "metadata": {}
  },
  {
   "cell_type": "code",
   "execution_count": null,
   "metadata": {},
   "outputs": [],
   "source": [
    "print(X.shape, X.dtype)"
   ]
  },
  {
   "cell_type": "code",
   "execution_count": null,
   "metadata": {},
   "outputs": [],
   "source": [
    "import matplotlib.pyplot as plt\n",
    "\n",
    "plt.imshow(X[3])\n",
    "plt.show()"
   ]
  },
  {
   "cell_type": "code",
   "execution_count": null,
   "metadata": {},
   "outputs": [],
   "source": [
    "y.shape"
   ]
  },
  {
   "cell_type": "code",
   "execution_count": null,
   "metadata": {},
   "outputs": [],
   "source": [
    "(y[1], categories[y[0].argmax()])"
   ]
  },
  {
   "cell_type": "code",
   "execution_count": null,
   "metadata": {},
   "outputs": [],
   "source": []
  }
 ],
 "metadata": {
  "kernelspec": {
   "name": "Python 3.8.6 64-bit ('ML')",
   "display_name": "Python 3.8.6 64-bit ('ML')",
   "metadata": {
    "interpreter": {
     "hash": "0d637d56708b5b1bb758d06434c40cfbe4ca31034e9d00bfb05663f8a5792e9e"
    }
   }
  },
  "language_info": {
   "codemirror_mode": {
    "name": "ipython",
    "version": 3
   },
   "file_extension": ".py",
   "mimetype": "text/x-python",
   "name": "python",
   "nbconvert_exporter": "python",
   "pygments_lexer": "ipython3",
   "version": "3.8.6-final"
  }
 },
 "nbformat": 4,
 "nbformat_minor": 4
}