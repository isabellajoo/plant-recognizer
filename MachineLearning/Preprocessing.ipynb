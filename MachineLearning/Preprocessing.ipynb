{
 "cells": [
  {
   "cell_type": "markdown",
   "metadata": {},
   "source": [
    "<hr style=\"border:2px solid gray\"> </hr>\n",
    "\n",
    "# Preprocessing\n",
    "\n",
    "## Author : Huisung Son\n",
    "\n",
    "<hr style=\"border:2px solid gray\"> </hr>"
   ]
  },
  {
   "cell_type": "markdown",
   "metadata": {},
   "source": [
    "# Step 0. Importing packages and Global Settings"
   ]
  },
  {
   "cell_type": "code",
   "execution_count": null,
   "metadata": {},
   "outputs": [],
   "source": [
    "# package list\n",
    "import cv2\n",
    "import numpy as np\n",
    "import os\n",
    "from tqdm import tqdm\n",
    "\n",
    "img_path = './image'\n"
   ]
  },
  {
   "cell_type": "markdown",
   "metadata": {},
   "source": [
    "# Step 1. Data Loading"
   ]
  },
  {
   "cell_type": "code",
   "execution_count": null,
   "metadata": {},
   "outputs": [],
   "source": [
    "def imread(filename, flags=cv2.IMREAD_COLOR, dtype=np.uint8):\n",
    "    try: \n",
    "        n = np.fromfile(filename, dtype) \n",
    "        img = cv2.imdecode(n, flags) \n",
    "        return img \n",
    "    except Exception as e: \n",
    "        print(e) \n",
    "        return None\n",
    "\n",
    "def img_loader(filename):\n",
    "    file = img_path + '/' + filename\n",
    "    img = imread(file)\n",
    "    return img"
   ]
  },
  {
   "cell_type": "markdown",
   "metadata": {},
   "source": [
    "# Step 2. Preprocessing"
   ]
  },
  {
   "cell_type": "code",
   "execution_count": null,
   "metadata": {},
   "outputs": [],
   "source": [
    "def Preprocess(image):\n",
    "    res = cv2.resize(image, (64, 64))\n",
    "    res = np.expand_dims(res, axis = 0)\n",
    "    return res"
   ]
  },
  {
   "cell_type": "markdown",
   "metadata": {},
   "source": [
    "# Main"
   ]
  },
  {
   "cell_type": "code",
   "execution_count": null,
   "metadata": {
    "tags": []
   },
   "outputs": [],
   "source": [
    "label = []\n",
    "img_list = np.zeros((1, 64, 64, 3))\n",
    "dir_list = os.listdir(img_path)\n",
    "for i, filename in tqdm(enumerate(dir_list)):\n",
    "    img_tensor = Preprocess(img_loader(filename))\n",
    "    img_list = np.vstack([img_list, img_tensor])\n",
    "    label.append(filename.split('_')[0])\n",
    "img_list.shape"
   ]
  },
  {
   "source": [
    "# Step 3. Save"
   ],
   "cell_type": "markdown",
   "metadata": {}
  },
  {
   "cell_type": "code",
   "execution_count": null,
   "metadata": {},
   "outputs": [],
   "source": [
    "np.save('data', img_list[1:, :, :])"
   ]
  },
  {
   "cell_type": "code",
   "execution_count": null,
   "metadata": {
    "tags": []
   },
   "outputs": [],
   "source": [
    "with open('label.txt', 'w') as file:\n",
    "    for name in label:\n",
    "        file.write(name + ',')"
   ]
  }
 ],
 "metadata": {
  "kernelspec": {
   "name": "Python 3.8.5 32-bit",
   "display_name": "Python 3.8.5 32-bit",
   "metadata": {
    "interpreter": {
     "hash": "463e63e35f7cb34f5d88b04eaa9b3a16ac2b5692d43f0849e4b981ac2cc93bdc"
    }
   }
  },
  "language_info": {
   "codemirror_mode": {
    "name": "ipython",
    "version": 3
   },
   "file_extension": ".py",
   "mimetype": "text/x-python",
   "name": "python",
   "nbconvert_exporter": "python",
   "pygments_lexer": "ipython3",
   "version": "3.8.5-final"
  }
 },
 "nbformat": 4,
 "nbformat_minor": 4
}