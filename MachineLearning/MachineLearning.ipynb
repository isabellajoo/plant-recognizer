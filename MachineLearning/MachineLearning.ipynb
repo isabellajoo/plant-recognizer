{
 "cells": [
  {
   "cell_type": "markdown",
   "metadata": {},
   "source": [
    "<hr style=\"border:2px solid gray\"> </hr>\n",
    "\n",
    "# Machine Learning\n",
    "<hr style=\"border:2px solid gray\"> </hr>"
   ]
  },
  {
   "cell_type": "markdown",
   "metadata": {},
   "source": [
    "# Step 0. Import packages and Global Settings"
   ]
  },
  {
   "cell_type": "code",
   "execution_count": 1,
   "metadata": {
    "tags": []
   },
   "outputs": [],
   "source": [
    "import os, glob, numpy as np\n",
    "import tensorflow as tf\n",
    "from tensorflow.keras import models, layers, callbacks, regularizers, optimizers\n",
    "import matplotlib.pyplot as plt\n",
    "\n",
    "train_name = 'train.hdf5'\n",
    "test_name = 'test.hdf5'\n",
    "category_file_name = 'Categories.txt'\n",
    "model_dir = './model'\n",
    "\n",
    "group = 2"
   ]
  },
  {
   "cell_type": "markdown",
   "metadata": {},
   "source": [
    "# Step 1. Data Loading"
   ]
  },
  {
   "cell_type": "code",
   "execution_count": 2,
   "metadata": {
    "tags": []
   },
   "outputs": [
    {
     "output_type": "stream",
     "name": "stdout",
     "text": [
      "WARNING:tensorflow:From <ipython-input-2-e078a29fffb3>:4: HDF5Matrix.__init__ (from tensorflow.python.keras.utils.io_utils) is deprecated and will be removed after 2020-05-30.\n",
      "Instructions for updating:\n",
      "Training with HDF5Matrix is not optimized for performance. Instead, we recommend using https://github.com/tensorflow/io to load your HDF5 data into a tf.data Dataset and passing that dataset to Keras.\n",
      "(42606, 128, 128, 3) (42606, 296)\n",
      "(14202, 128, 128, 3) (14202, 296)\n"
     ]
    }
   ],
   "source": [
    "import h5py\n",
    "from tensorflow.keras.utils import HDF5Matrix\n",
    "\n",
    "X_train, X_test, y_train, y_test = HDF5Matrix(train_name, 'X'), HDF5Matrix(test_name, 'X'), HDF5Matrix(train_name, 'y'), HDF5Matrix(test_name, 'y')\n",
    "\n",
    "print(X_train.shape, y_train.shape)\n",
    "print(X_test.shape, y_test.shape)"
   ]
  },
  {
   "cell_type": "code",
   "execution_count": 3,
   "metadata": {},
   "outputs": [],
   "source": [
    "import codecs\n",
    "category_file = codecs.open(category_file_name, 'r', 'utf-8')\n",
    "categories = list(map(str.strip, category_file.readlines()))\n",
    "classes = len(categories)"
   ]
  },
  {
   "cell_type": "markdown",
   "metadata": {},
   "source": [
    "# Step 2. Define Model"
   ]
  },
  {
   "cell_type": "code",
   "execution_count": 4,
   "metadata": {},
   "outputs": [],
   "source": [
    "l2_ratio = 0.01\n",
    "with tf.device('/device:GPU:0'):\n",
    "    base_model = tf.keras.applications.vgg19.VGG19(weights= None, include_top=False, input_shape=X_train.shape[1:])\n",
    "    x = base_model.output\n",
    "    x = layers.GlobalAveragePooling2D()(x)\n",
    "    x = layers.Dropout(0.5)(x)\n",
    "    predictions = layers.Dense(classes, activation= 'softmax')(x)\n",
    "    model = models.Model(inputs = base_model.input, outputs = predictions)\n",
    "    model.compile(loss='categorical_crossentropy', optimizer='adam', metrics=['accuracy'])"
   ]
  },
  {
   "cell_type": "code",
   "execution_count": 5,
   "metadata": {
    "tags": []
   },
   "outputs": [
    {
     "output_type": "stream",
     "name": "stdout",
     "text": [
      "Model: \"functional_1\"\n_________________________________________________________________\nLayer (type)                 Output Shape              Param #   \n=================================================================\ninput_1 (InputLayer)         [(None, 128, 128, 3)]     0         \n_________________________________________________________________\nblock1_conv1 (Conv2D)        (None, 128, 128, 64)      1792      \n_________________________________________________________________\nblock1_conv2 (Conv2D)        (None, 128, 128, 64)      36928     \n_________________________________________________________________\nblock1_pool (MaxPooling2D)   (None, 64, 64, 64)        0         \n_________________________________________________________________\nblock2_conv1 (Conv2D)        (None, 64, 64, 128)       73856     \n_________________________________________________________________\nblock2_conv2 (Conv2D)        (None, 64, 64, 128)       147584    \n_________________________________________________________________\nblock2_pool (MaxPooling2D)   (None, 32, 32, 128)       0         \n_________________________________________________________________\nblock3_conv1 (Conv2D)        (None, 32, 32, 256)       295168    \n_________________________________________________________________\nblock3_conv2 (Conv2D)        (None, 32, 32, 256)       590080    \n_________________________________________________________________\nblock3_conv3 (Conv2D)        (None, 32, 32, 256)       590080    \n_________________________________________________________________\nblock3_pool (MaxPooling2D)   (None, 16, 16, 256)       0         \n_________________________________________________________________\nblock4_conv1 (Conv2D)        (None, 16, 16, 512)       1180160   \n_________________________________________________________________\nblock4_conv2 (Conv2D)        (None, 16, 16, 512)       2359808   \n_________________________________________________________________\nblock4_conv3 (Conv2D)        (None, 16, 16, 512)       2359808   \n_________________________________________________________________\nblock4_pool (MaxPooling2D)   (None, 8, 8, 512)         0         \n_________________________________________________________________\nblock5_conv1 (Conv2D)        (None, 8, 8, 512)         2359808   \n_________________________________________________________________\nblock5_conv2 (Conv2D)        (None, 8, 8, 512)         2359808   \n_________________________________________________________________\nblock5_conv3 (Conv2D)        (None, 8, 8, 512)         2359808   \n_________________________________________________________________\nblock5_pool (MaxPooling2D)   (None, 4, 4, 512)         0         \n_________________________________________________________________\nglobal_average_pooling2d (Gl (None, 512)               0         \n_________________________________________________________________\ndropout (Dropout)            (None, 512)               0         \n_________________________________________________________________\ndense (Dense)                (None, 296)               151848    \n=================================================================\nTotal params: 14,866,536\nTrainable params: 14,866,536\nNon-trainable params: 0\n_________________________________________________________________\n"
     ]
    }
   ],
   "source": [
    "model.summary()"
   ]
  },
  {
   "cell_type": "markdown",
   "metadata": {},
   "source": [
    "# Training"
   ]
  },
  {
   "cell_type": "code",
   "execution_count": 6,
   "metadata": {
    "tags": []
   },
   "outputs": [
    {
     "output_type": "stream",
     "name": "stdout",
     "text": [
      "Epoch 1/1000\n",
      "  2/888 [..............................] - ETA: 1:32 - loss: 5.6826 - accuracy: 0.0104  WARNING:tensorflow:Callbacks method `on_train_batch_end` is slow compared to the batch time (batch time: 0.0590s vs `on_train_batch_end` time: 0.1370s). Check your callbacks.\n",
      "888/888 [==============================] - 218s 246ms/step - loss: 5.6897 - accuracy: 0.0030 - val_loss: 5.6893 - val_accuracy: 0.0024\n",
      "Epoch 2/1000\n",
      "888/888 [==============================] - 188s 212ms/step - loss: 5.6873 - accuracy: 0.0034 - val_loss: 5.6896 - val_accuracy: 0.0020\n",
      "Epoch 3/1000\n",
      "888/888 [==============================] - 186s 210ms/step - loss: 5.6866 - accuracy: 0.0034 - val_loss: 5.6901 - val_accuracy: 0.0020\n",
      "Epoch 4/1000\n",
      "888/888 [==============================] - 186s 210ms/step - loss: 5.6860 - accuracy: 0.0038 - val_loss: 5.6903 - val_accuracy: 0.0020\n",
      "Epoch 5/1000\n",
      "888/888 [==============================] - 185s 209ms/step - loss: 5.6857 - accuracy: 0.0040 - val_loss: 5.6906 - val_accuracy: 0.0020\n",
      "Epoch 6/1000\n",
      "888/888 [==============================] - 186s 210ms/step - loss: 5.6855 - accuracy: 0.0035 - val_loss: 5.6908 - val_accuracy: 0.0020\n",
      "Epoch 7/1000\n",
      "888/888 [==============================] - 186s 210ms/step - loss: 5.6854 - accuracy: 0.0038 - val_loss: 5.6909 - val_accuracy: 0.0022\n",
      "Epoch 8/1000\n",
      "888/888 [==============================] - 187s 210ms/step - loss: 5.6854 - accuracy: 0.0038 - val_loss: 5.6910 - val_accuracy: 0.0022\n",
      "Epoch 9/1000\n",
      "888/888 [==============================] - 187s 210ms/step - loss: 5.6853 - accuracy: 0.0036 - val_loss: 5.6911 - val_accuracy: 0.0022\n",
      "Epoch 10/1000\n",
      "888/888 [==============================] - 187s 210ms/step - loss: 5.6852 - accuracy: 0.0040 - val_loss: 5.6912 - val_accuracy: 0.0020\n",
      "Epoch 11/1000\n",
      "888/888 [==============================] - 187s 210ms/step - loss: 5.6852 - accuracy: 0.0035 - val_loss: 5.6913 - val_accuracy: 0.0022\n",
      "Epoch 12/1000\n",
      "888/888 [==============================] - 186s 210ms/step - loss: 5.6852 - accuracy: 0.0039 - val_loss: 5.6913 - val_accuracy: 0.0020\n",
      "Epoch 13/1000\n",
      "888/888 [==============================] - 185s 209ms/step - loss: 5.6851 - accuracy: 0.0038 - val_loss: 5.6914 - val_accuracy: 0.0020\n",
      "Epoch 14/1000\n",
      "888/888 [==============================] - 186s 210ms/step - loss: 5.6852 - accuracy: 0.0037 - val_loss: 5.6915 - val_accuracy: 0.0020\n",
      "Epoch 15/1000\n",
      "888/888 [==============================] - 187s 210ms/step - loss: 5.6851 - accuracy: 0.0037 - val_loss: 5.6915 - val_accuracy: 0.0020\n",
      "Epoch 16/1000\n",
      "888/888 [==============================] - 187s 210ms/step - loss: 5.6851 - accuracy: 0.0038 - val_loss: 5.6915 - val_accuracy: 0.0020\n",
      "Epoch 17/1000\n",
      "888/888 [==============================] - 187s 210ms/step - loss: 5.6851 - accuracy: 0.0035 - val_loss: 5.6915 - val_accuracy: 0.0020\n",
      "Epoch 18/1000\n",
      "888/888 [==============================] - 190s 213ms/step - loss: 5.6851 - accuracy: 0.0037 - val_loss: 5.6916 - val_accuracy: 0.0022\n",
      "Epoch 19/1000\n",
      "888/888 [==============================] - 189s 213ms/step - loss: 5.6851 - accuracy: 0.0036 - val_loss: 5.6916 - val_accuracy: 0.0022\n",
      "Epoch 20/1000\n",
      "888/888 [==============================] - 189s 213ms/step - loss: 5.6851 - accuracy: 0.0034 - val_loss: 5.6916 - val_accuracy: 0.0022\n",
      "Epoch 21/1000\n",
      "888/888 [==============================] - 190s 214ms/step - loss: 5.6851 - accuracy: 0.0036 - val_loss: 5.6916 - val_accuracy: 0.0020\n",
      "Epoch 22/1000\n",
      "888/888 [==============================] - 190s 214ms/step - loss: 5.6851 - accuracy: 0.0034 - val_loss: 5.6916 - val_accuracy: 0.0022\n",
      "Epoch 23/1000\n",
      "888/888 [==============================] - 181s 204ms/step - loss: 5.6851 - accuracy: 0.0035 - val_loss: 5.6916 - val_accuracy: 0.0020\n",
      "Epoch 24/1000\n",
      "888/888 [==============================] - 179s 202ms/step - loss: 5.6851 - accuracy: 0.0038 - val_loss: 5.6916 - val_accuracy: 0.0020\n",
      "Epoch 25/1000\n",
      "888/888 [==============================] - 179s 201ms/step - loss: 5.6851 - accuracy: 0.0037 - val_loss: 5.6916 - val_accuracy: 0.0022\n",
      "Epoch 26/1000\n",
      "888/888 [==============================] - 179s 201ms/step - loss: 5.6851 - accuracy: 0.0038 - val_loss: 5.6916 - val_accuracy: 0.0020\n",
      "Epoch 27/1000\n",
      "888/888 [==============================] - 179s 201ms/step - loss: 5.6851 - accuracy: 0.0033 - val_loss: 5.6916 - val_accuracy: 0.0020\n",
      "Epoch 28/1000\n",
      "888/888 [==============================] - 179s 201ms/step - loss: 5.6851 - accuracy: 0.0036 - val_loss: 5.6916 - val_accuracy: 0.0020\n",
      "Epoch 29/1000\n",
      "888/888 [==============================] - 179s 201ms/step - loss: 5.6851 - accuracy: 0.0038 - val_loss: 5.6916 - val_accuracy: 0.0020\n",
      "Epoch 30/1000\n",
      "888/888 [==============================] - 179s 202ms/step - loss: 5.6851 - accuracy: 0.0036 - val_loss: 5.6916 - val_accuracy: 0.0022\n",
      "Epoch 31/1000\n",
      "888/888 [==============================] - 179s 202ms/step - loss: 5.6851 - accuracy: 0.0035 - val_loss: 5.6916 - val_accuracy: 0.0022\n",
      "Epoch 32/1000\n",
      "888/888 [==============================] - 179s 202ms/step - loss: 5.6851 - accuracy: 0.0035 - val_loss: 5.6916 - val_accuracy: 0.0020\n",
      "Epoch 33/1000\n",
      "888/888 [==============================] - 179s 202ms/step - loss: 5.6852 - accuracy: 0.0038 - val_loss: 5.6916 - val_accuracy: 0.0020\n",
      "Epoch 34/1000\n",
      "888/888 [==============================] - 179s 202ms/step - loss: 5.6851 - accuracy: 0.0035 - val_loss: 5.6916 - val_accuracy: 0.0020\n",
      "Epoch 35/1000\n",
      "888/888 [==============================] - 179s 202ms/step - loss: 5.6851 - accuracy: 0.0038 - val_loss: 5.6916 - val_accuracy: 0.0022\n",
      "Epoch 36/1000\n",
      "888/888 [==============================] - 179s 202ms/step - loss: 5.6851 - accuracy: 0.0036 - val_loss: 5.6916 - val_accuracy: 0.0020\n",
      "Epoch 37/1000\n",
      "888/888 [==============================] - 179s 201ms/step - loss: 5.6851 - accuracy: 0.0038 - val_loss: 5.6917 - val_accuracy: 0.0022\n",
      "Epoch 38/1000\n",
      "888/888 [==============================] - 179s 201ms/step - loss: 5.6851 - accuracy: 0.0037 - val_loss: 5.6917 - val_accuracy: 0.0022\n",
      "Epoch 39/1000\n",
      "888/888 [==============================] - 179s 201ms/step - loss: 5.6851 - accuracy: 0.0036 - val_loss: 5.6916 - val_accuracy: 0.0022\n",
      "Epoch 40/1000\n",
      "888/888 [==============================] - 179s 201ms/step - loss: 5.6851 - accuracy: 0.0037 - val_loss: 5.6916 - val_accuracy: 0.0020\n",
      "Epoch 41/1000\n",
      "888/888 [==============================] - 179s 201ms/step - loss: 5.6851 - accuracy: 0.0038 - val_loss: 5.6916 - val_accuracy: 0.0020\n",
      "Epoch 42/1000\n",
      "888/888 [==============================] - 179s 202ms/step - loss: 5.6851 - accuracy: 0.0036 - val_loss: 5.6916 - val_accuracy: 0.0020\n",
      "Epoch 43/1000\n",
      "888/888 [==============================] - 179s 201ms/step - loss: 5.6851 - accuracy: 0.0036 - val_loss: 5.6916 - val_accuracy: 0.0020\n",
      "Epoch 44/1000\n",
      "888/888 [==============================] - 179s 201ms/step - loss: 5.6851 - accuracy: 0.0036 - val_loss: 5.6916 - val_accuracy: 0.0020\n",
      "Epoch 45/1000\n",
      "888/888 [==============================] - 179s 201ms/step - loss: 5.6851 - accuracy: 0.0037 - val_loss: 5.6915 - val_accuracy: 0.0020\n",
      "Epoch 46/1000\n",
      "888/888 [==============================] - 179s 202ms/step - loss: 5.6852 - accuracy: 0.0039 - val_loss: 5.6915 - val_accuracy: 0.0022\n",
      "Epoch 47/1000\n",
      "888/888 [==============================] - 179s 202ms/step - loss: 5.6851 - accuracy: 0.0035 - val_loss: 5.6916 - val_accuracy: 0.0020\n",
      "Epoch 48/1000\n",
      "888/888 [==============================] - 179s 201ms/step - loss: 5.6851 - accuracy: 0.0035 - val_loss: 5.6915 - val_accuracy: 0.0022\n",
      "Epoch 49/1000\n",
      "888/888 [==============================] - 179s 202ms/step - loss: 5.6851 - accuracy: 0.0039 - val_loss: 5.6916 - val_accuracy: 0.0020\n",
      "Epoch 50/1000\n",
      "888/888 [==============================] - 179s 202ms/step - loss: 5.6851 - accuracy: 0.0039 - val_loss: 5.6916 - val_accuracy: 0.0020\n",
      "Epoch 51/1000\n",
      "888/888 [==============================] - 179s 201ms/step - loss: 5.6851 - accuracy: 0.0038 - val_loss: 5.6916 - val_accuracy: 0.0020\n",
      "Epoch 52/1000\n",
      "888/888 [==============================] - 179s 202ms/step - loss: 5.6851 - accuracy: 0.0036 - val_loss: 5.6916 - val_accuracy: 0.0020\n",
      "Epoch 53/1000\n",
      "888/888 [==============================] - 179s 201ms/step - loss: 5.6851 - accuracy: 0.0038 - val_loss: 5.6915 - val_accuracy: 0.0022\n",
      "Epoch 54/1000\n",
      "888/888 [==============================] - 179s 201ms/step - loss: 5.6851 - accuracy: 0.0038 - val_loss: 5.6915 - val_accuracy: 0.0020\n",
      "Epoch 55/1000\n",
      "888/888 [==============================] - 179s 202ms/step - loss: 5.6851 - accuracy: 0.0035 - val_loss: 5.6915 - val_accuracy: 0.0020\n",
      "Epoch 56/1000\n",
      "888/888 [==============================] - 179s 201ms/step - loss: 5.6852 - accuracy: 0.0037 - val_loss: 5.6915 - val_accuracy: 0.0020\n",
      "Epoch 57/1000\n",
      "888/888 [==============================] - 179s 202ms/step - loss: 5.6851 - accuracy: 0.0037 - val_loss: 5.6915 - val_accuracy: 0.0020\n",
      "Epoch 58/1000\n",
      "888/888 [==============================] - 179s 201ms/step - loss: 5.6851 - accuracy: 0.0034 - val_loss: 5.6915 - val_accuracy: 0.0022\n",
      "Epoch 59/1000\n",
      "888/888 [==============================] - 179s 202ms/step - loss: 5.6851 - accuracy: 0.0038 - val_loss: 5.6915 - val_accuracy: 0.0022\n",
      "Epoch 60/1000\n",
      "888/888 [==============================] - 179s 202ms/step - loss: 5.6851 - accuracy: 0.0037 - val_loss: 5.6916 - val_accuracy: 0.0020\n",
      "Epoch 61/1000\n",
      "888/888 [==============================] - 179s 201ms/step - loss: 5.6851 - accuracy: 0.0039 - val_loss: 5.6916 - val_accuracy: 0.0020\n",
      "Epoch 62/1000\n",
      "888/888 [==============================] - 179s 201ms/step - loss: 5.6851 - accuracy: 0.0036 - val_loss: 5.6916 - val_accuracy: 0.0020\n",
      "Epoch 63/1000\n",
      "888/888 [==============================] - 179s 201ms/step - loss: 5.6851 - accuracy: 0.0036 - val_loss: 5.6916 - val_accuracy: 0.0020\n",
      "Epoch 64/1000\n",
      "888/888 [==============================] - 179s 201ms/step - loss: 5.6851 - accuracy: 0.0035 - val_loss: 5.6915 - val_accuracy: 0.0020\n",
      "Epoch 65/1000\n",
      "888/888 [==============================] - 179s 201ms/step - loss: 5.6851 - accuracy: 0.0036 - val_loss: 5.6916 - val_accuracy: 0.0020\n",
      "Epoch 66/1000\n",
      "888/888 [==============================] - 179s 201ms/step - loss: 5.6851 - accuracy: 0.0036 - val_loss: 5.6916 - val_accuracy: 0.0020\n",
      "Epoch 67/1000\n",
      "888/888 [==============================] - 179s 201ms/step - loss: 5.6851 - accuracy: 0.0034 - val_loss: 5.6916 - val_accuracy: 0.0020\n",
      "Epoch 68/1000\n",
      "888/888 [==============================] - 179s 201ms/step - loss: 5.6851 - accuracy: 0.0037 - val_loss: 5.6916 - val_accuracy: 0.0020\n",
      "Epoch 69/1000\n",
      "888/888 [==============================] - 179s 201ms/step - loss: 5.6851 - accuracy: 0.0036 - val_loss: 5.6915 - val_accuracy: 0.0020\n",
      "Epoch 70/1000\n",
      "888/888 [==============================] - 179s 201ms/step - loss: 5.6851 - accuracy: 0.0035 - val_loss: 5.6916 - val_accuracy: 0.0020\n",
      "Epoch 71/1000\n",
      "888/888 [==============================] - 179s 201ms/step - loss: 5.6851 - accuracy: 0.0039 - val_loss: 5.6916 - val_accuracy: 0.0020\n",
      "Epoch 72/1000\n",
      "888/888 [==============================] - 180s 202ms/step - loss: 5.6851 - accuracy: 0.0040 - val_loss: 5.6916 - val_accuracy: 0.0022\n",
      "Epoch 73/1000\n",
      "179/888 [=====>........................] - ETA: 2:18 - loss: 5.6834 - accuracy: 0.0034"
     ]
    },
    {
     "output_type": "error",
     "ename": "KeyboardInterrupt",
     "evalue": "",
     "traceback": [
      "\u001b[1;31m---------------------------------------------------------------------------\u001b[0m",
      "\u001b[1;31mKeyboardInterrupt\u001b[0m                         Traceback (most recent call last)",
      "\u001b[1;32m<ipython-input-6-ea1cfadc879c>\u001b[0m in \u001b[0;36m<module>\u001b[1;34m\u001b[0m\n\u001b[1;32m----> 1\u001b[1;33m \u001b[0mhistory\u001b[0m \u001b[1;33m=\u001b[0m \u001b[0mmodel\u001b[0m\u001b[1;33m.\u001b[0m\u001b[0mfit\u001b[0m\u001b[1;33m(\u001b[0m\u001b[0mX_train\u001b[0m\u001b[1;33m[\u001b[0m\u001b[1;33m:\u001b[0m\u001b[1;33m]\u001b[0m\u001b[1;33m,\u001b[0m \u001b[0my_train\u001b[0m\u001b[1;33m[\u001b[0m\u001b[1;33m:\u001b[0m\u001b[1;33m]\u001b[0m\u001b[1;33m,\u001b[0m \u001b[0mbatch_size\u001b[0m\u001b[1;33m=\u001b[0m\u001b[1;36m48\u001b[0m\u001b[1;33m,\u001b[0m \u001b[0mepochs\u001b[0m\u001b[1;33m=\u001b[0m\u001b[1;36m1000\u001b[0m\u001b[1;33m,\u001b[0m \u001b[0mvalidation_data\u001b[0m\u001b[1;33m=\u001b[0m\u001b[1;33m(\u001b[0m\u001b[0mX_test\u001b[0m\u001b[1;33m[\u001b[0m\u001b[1;33m:\u001b[0m\u001b[1;33m]\u001b[0m\u001b[1;33m,\u001b[0m \u001b[0my_test\u001b[0m\u001b[1;33m[\u001b[0m\u001b[1;33m:\u001b[0m\u001b[1;33m]\u001b[0m\u001b[1;33m)\u001b[0m\u001b[1;33m)\u001b[0m\u001b[1;33m\u001b[0m\u001b[1;33m\u001b[0m\u001b[0m\n\u001b[0m\u001b[0;32m      2\u001b[0m \u001b[0mprint\u001b[0m\u001b[1;33m(\u001b[0m\u001b[1;34m\"정확도 : %.4f\"\u001b[0m \u001b[1;33m%\u001b[0m \u001b[1;33m(\u001b[0m\u001b[0mmodel\u001b[0m\u001b[1;33m.\u001b[0m\u001b[0mevaluate\u001b[0m\u001b[1;33m(\u001b[0m\u001b[0mtest\u001b[0m\u001b[1;33m)\u001b[0m\u001b[1;33m[\u001b[0m\u001b[1;36m1\u001b[0m\u001b[1;33m]\u001b[0m\u001b[1;33m)\u001b[0m\u001b[1;33m)\u001b[0m\u001b[1;33m\u001b[0m\u001b[1;33m\u001b[0m\u001b[0m\n",
      "\u001b[1;32mc:\\ML\\plant-recognizer\\ML\\lib\\site-packages\\tensorflow\\python\\keras\\engine\\training.py\u001b[0m in \u001b[0;36m_method_wrapper\u001b[1;34m(self, *args, **kwargs)\u001b[0m\n\u001b[0;32m    106\u001b[0m   \u001b[1;32mdef\u001b[0m \u001b[0m_method_wrapper\u001b[0m\u001b[1;33m(\u001b[0m\u001b[0mself\u001b[0m\u001b[1;33m,\u001b[0m \u001b[1;33m*\u001b[0m\u001b[0margs\u001b[0m\u001b[1;33m,\u001b[0m \u001b[1;33m**\u001b[0m\u001b[0mkwargs\u001b[0m\u001b[1;33m)\u001b[0m\u001b[1;33m:\u001b[0m\u001b[1;33m\u001b[0m\u001b[1;33m\u001b[0m\u001b[0m\n\u001b[0;32m    107\u001b[0m     \u001b[1;32mif\u001b[0m \u001b[1;32mnot\u001b[0m \u001b[0mself\u001b[0m\u001b[1;33m.\u001b[0m\u001b[0m_in_multi_worker_mode\u001b[0m\u001b[1;33m(\u001b[0m\u001b[1;33m)\u001b[0m\u001b[1;33m:\u001b[0m  \u001b[1;31m# pylint: disable=protected-access\u001b[0m\u001b[1;33m\u001b[0m\u001b[1;33m\u001b[0m\u001b[0m\n\u001b[1;32m--> 108\u001b[1;33m       \u001b[1;32mreturn\u001b[0m \u001b[0mmethod\u001b[0m\u001b[1;33m(\u001b[0m\u001b[0mself\u001b[0m\u001b[1;33m,\u001b[0m \u001b[1;33m*\u001b[0m\u001b[0margs\u001b[0m\u001b[1;33m,\u001b[0m \u001b[1;33m**\u001b[0m\u001b[0mkwargs\u001b[0m\u001b[1;33m)\u001b[0m\u001b[1;33m\u001b[0m\u001b[1;33m\u001b[0m\u001b[0m\n\u001b[0m\u001b[0;32m    109\u001b[0m \u001b[1;33m\u001b[0m\u001b[0m\n\u001b[0;32m    110\u001b[0m     \u001b[1;31m# Running inside `run_distribute_coordinator` already.\u001b[0m\u001b[1;33m\u001b[0m\u001b[1;33m\u001b[0m\u001b[1;33m\u001b[0m\u001b[0m\n",
      "\u001b[1;32mc:\\ML\\plant-recognizer\\ML\\lib\\site-packages\\tensorflow\\python\\keras\\engine\\training.py\u001b[0m in \u001b[0;36mfit\u001b[1;34m(self, x, y, batch_size, epochs, verbose, callbacks, validation_split, validation_data, shuffle, class_weight, sample_weight, initial_epoch, steps_per_epoch, validation_steps, validation_batch_size, validation_freq, max_queue_size, workers, use_multiprocessing)\u001b[0m\n\u001b[0;32m   1101\u001b[0m               \u001b[0mlogs\u001b[0m \u001b[1;33m=\u001b[0m \u001b[0mtmp_logs\u001b[0m  \u001b[1;31m# No error, now safe to assign to logs.\u001b[0m\u001b[1;33m\u001b[0m\u001b[1;33m\u001b[0m\u001b[0m\n\u001b[0;32m   1102\u001b[0m               \u001b[0mend_step\u001b[0m \u001b[1;33m=\u001b[0m \u001b[0mstep\u001b[0m \u001b[1;33m+\u001b[0m \u001b[0mdata_handler\u001b[0m\u001b[1;33m.\u001b[0m\u001b[0mstep_increment\u001b[0m\u001b[1;33m\u001b[0m\u001b[1;33m\u001b[0m\u001b[0m\n\u001b[1;32m-> 1103\u001b[1;33m               \u001b[0mcallbacks\u001b[0m\u001b[1;33m.\u001b[0m\u001b[0mon_train_batch_end\u001b[0m\u001b[1;33m(\u001b[0m\u001b[0mend_step\u001b[0m\u001b[1;33m,\u001b[0m \u001b[0mlogs\u001b[0m\u001b[1;33m)\u001b[0m\u001b[1;33m\u001b[0m\u001b[1;33m\u001b[0m\u001b[0m\n\u001b[0m\u001b[0;32m   1104\u001b[0m         \u001b[0mepoch_logs\u001b[0m \u001b[1;33m=\u001b[0m \u001b[0mcopy\u001b[0m\u001b[1;33m.\u001b[0m\u001b[0mcopy\u001b[0m\u001b[1;33m(\u001b[0m\u001b[0mlogs\u001b[0m\u001b[1;33m)\u001b[0m\u001b[1;33m\u001b[0m\u001b[1;33m\u001b[0m\u001b[0m\n\u001b[0;32m   1105\u001b[0m \u001b[1;33m\u001b[0m\u001b[0m\n",
      "\u001b[1;32mc:\\ML\\plant-recognizer\\ML\\lib\\site-packages\\tensorflow\\python\\keras\\callbacks.py\u001b[0m in \u001b[0;36mon_train_batch_end\u001b[1;34m(self, batch, logs)\u001b[0m\n\u001b[0;32m    438\u001b[0m     \"\"\"\n\u001b[0;32m    439\u001b[0m     \u001b[1;32mif\u001b[0m \u001b[0mself\u001b[0m\u001b[1;33m.\u001b[0m\u001b[0m_should_call_train_batch_hooks\u001b[0m\u001b[1;33m:\u001b[0m\u001b[1;33m\u001b[0m\u001b[1;33m\u001b[0m\u001b[0m\n\u001b[1;32m--> 440\u001b[1;33m       \u001b[0mself\u001b[0m\u001b[1;33m.\u001b[0m\u001b[0m_call_batch_hook\u001b[0m\u001b[1;33m(\u001b[0m\u001b[0mModeKeys\u001b[0m\u001b[1;33m.\u001b[0m\u001b[0mTRAIN\u001b[0m\u001b[1;33m,\u001b[0m \u001b[1;34m'end'\u001b[0m\u001b[1;33m,\u001b[0m \u001b[0mbatch\u001b[0m\u001b[1;33m,\u001b[0m \u001b[0mlogs\u001b[0m\u001b[1;33m=\u001b[0m\u001b[0mlogs\u001b[0m\u001b[1;33m)\u001b[0m\u001b[1;33m\u001b[0m\u001b[1;33m\u001b[0m\u001b[0m\n\u001b[0m\u001b[0;32m    441\u001b[0m \u001b[1;33m\u001b[0m\u001b[0m\n\u001b[0;32m    442\u001b[0m   \u001b[1;32mdef\u001b[0m \u001b[0mon_test_batch_begin\u001b[0m\u001b[1;33m(\u001b[0m\u001b[0mself\u001b[0m\u001b[1;33m,\u001b[0m \u001b[0mbatch\u001b[0m\u001b[1;33m,\u001b[0m \u001b[0mlogs\u001b[0m\u001b[1;33m=\u001b[0m\u001b[1;32mNone\u001b[0m\u001b[1;33m)\u001b[0m\u001b[1;33m:\u001b[0m\u001b[1;33m\u001b[0m\u001b[1;33m\u001b[0m\u001b[0m\n",
      "\u001b[1;32mc:\\ML\\plant-recognizer\\ML\\lib\\site-packages\\tensorflow\\python\\keras\\callbacks.py\u001b[0m in \u001b[0;36m_call_batch_hook\u001b[1;34m(self, mode, hook, batch, logs)\u001b[0m\n\u001b[0;32m    287\u001b[0m       \u001b[0mself\u001b[0m\u001b[1;33m.\u001b[0m\u001b[0m_call_batch_begin_hook\u001b[0m\u001b[1;33m(\u001b[0m\u001b[0mmode\u001b[0m\u001b[1;33m,\u001b[0m \u001b[0mbatch\u001b[0m\u001b[1;33m,\u001b[0m \u001b[0mlogs\u001b[0m\u001b[1;33m)\u001b[0m\u001b[1;33m\u001b[0m\u001b[1;33m\u001b[0m\u001b[0m\n\u001b[0;32m    288\u001b[0m     \u001b[1;32melif\u001b[0m \u001b[0mhook\u001b[0m \u001b[1;33m==\u001b[0m \u001b[1;34m'end'\u001b[0m\u001b[1;33m:\u001b[0m\u001b[1;33m\u001b[0m\u001b[1;33m\u001b[0m\u001b[0m\n\u001b[1;32m--> 289\u001b[1;33m       \u001b[0mself\u001b[0m\u001b[1;33m.\u001b[0m\u001b[0m_call_batch_end_hook\u001b[0m\u001b[1;33m(\u001b[0m\u001b[0mmode\u001b[0m\u001b[1;33m,\u001b[0m \u001b[0mbatch\u001b[0m\u001b[1;33m,\u001b[0m \u001b[0mlogs\u001b[0m\u001b[1;33m)\u001b[0m\u001b[1;33m\u001b[0m\u001b[1;33m\u001b[0m\u001b[0m\n\u001b[0m\u001b[0;32m    290\u001b[0m     \u001b[1;32melse\u001b[0m\u001b[1;33m:\u001b[0m\u001b[1;33m\u001b[0m\u001b[1;33m\u001b[0m\u001b[0m\n\u001b[0;32m    291\u001b[0m       \u001b[1;32mraise\u001b[0m \u001b[0mValueError\u001b[0m\u001b[1;33m(\u001b[0m\u001b[1;34m'Unrecognized hook: {}'\u001b[0m\u001b[1;33m.\u001b[0m\u001b[0mformat\u001b[0m\u001b[1;33m(\u001b[0m\u001b[0mhook\u001b[0m\u001b[1;33m)\u001b[0m\u001b[1;33m)\u001b[0m\u001b[1;33m\u001b[0m\u001b[1;33m\u001b[0m\u001b[0m\n",
      "\u001b[1;32mc:\\ML\\plant-recognizer\\ML\\lib\\site-packages\\tensorflow\\python\\keras\\callbacks.py\u001b[0m in \u001b[0;36m_call_batch_end_hook\u001b[1;34m(self, mode, batch, logs)\u001b[0m\n\u001b[0;32m    307\u001b[0m       \u001b[0mbatch_time\u001b[0m \u001b[1;33m=\u001b[0m \u001b[0mtime\u001b[0m\u001b[1;33m.\u001b[0m\u001b[0mtime\u001b[0m\u001b[1;33m(\u001b[0m\u001b[1;33m)\u001b[0m \u001b[1;33m-\u001b[0m \u001b[0mself\u001b[0m\u001b[1;33m.\u001b[0m\u001b[0m_batch_start_time\u001b[0m\u001b[1;33m\u001b[0m\u001b[1;33m\u001b[0m\u001b[0m\n\u001b[0;32m    308\u001b[0m \u001b[1;33m\u001b[0m\u001b[0m\n\u001b[1;32m--> 309\u001b[1;33m     \u001b[0mself\u001b[0m\u001b[1;33m.\u001b[0m\u001b[0m_call_batch_hook_helper\u001b[0m\u001b[1;33m(\u001b[0m\u001b[0mhook_name\u001b[0m\u001b[1;33m,\u001b[0m \u001b[0mbatch\u001b[0m\u001b[1;33m,\u001b[0m \u001b[0mlogs\u001b[0m\u001b[1;33m)\u001b[0m\u001b[1;33m\u001b[0m\u001b[1;33m\u001b[0m\u001b[0m\n\u001b[0m\u001b[0;32m    310\u001b[0m \u001b[1;33m\u001b[0m\u001b[0m\n\u001b[0;32m    311\u001b[0m     \u001b[1;32mif\u001b[0m \u001b[0mself\u001b[0m\u001b[1;33m.\u001b[0m\u001b[0m_check_timing\u001b[0m\u001b[1;33m:\u001b[0m\u001b[1;33m\u001b[0m\u001b[1;33m\u001b[0m\u001b[0m\n",
      "\u001b[1;32mc:\\ML\\plant-recognizer\\ML\\lib\\site-packages\\tensorflow\\python\\keras\\callbacks.py\u001b[0m in \u001b[0;36m_call_batch_hook_helper\u001b[1;34m(self, hook_name, batch, logs)\u001b[0m\n\u001b[0;32m    340\u001b[0m       \u001b[0mhook\u001b[0m \u001b[1;33m=\u001b[0m \u001b[0mgetattr\u001b[0m\u001b[1;33m(\u001b[0m\u001b[0mcallback\u001b[0m\u001b[1;33m,\u001b[0m \u001b[0mhook_name\u001b[0m\u001b[1;33m)\u001b[0m\u001b[1;33m\u001b[0m\u001b[1;33m\u001b[0m\u001b[0m\n\u001b[0;32m    341\u001b[0m       \u001b[1;32mif\u001b[0m \u001b[0mgetattr\u001b[0m\u001b[1;33m(\u001b[0m\u001b[0mcallback\u001b[0m\u001b[1;33m,\u001b[0m \u001b[1;34m'_supports_tf_logs'\u001b[0m\u001b[1;33m,\u001b[0m \u001b[1;32mFalse\u001b[0m\u001b[1;33m)\u001b[0m\u001b[1;33m:\u001b[0m\u001b[1;33m\u001b[0m\u001b[1;33m\u001b[0m\u001b[0m\n\u001b[1;32m--> 342\u001b[1;33m         \u001b[0mhook\u001b[0m\u001b[1;33m(\u001b[0m\u001b[0mbatch\u001b[0m\u001b[1;33m,\u001b[0m \u001b[0mlogs\u001b[0m\u001b[1;33m)\u001b[0m\u001b[1;33m\u001b[0m\u001b[1;33m\u001b[0m\u001b[0m\n\u001b[0m\u001b[0;32m    343\u001b[0m       \u001b[1;32melse\u001b[0m\u001b[1;33m:\u001b[0m\u001b[1;33m\u001b[0m\u001b[1;33m\u001b[0m\u001b[0m\n\u001b[0;32m    344\u001b[0m         \u001b[1;32mif\u001b[0m \u001b[0mnumpy_logs\u001b[0m \u001b[1;32mis\u001b[0m \u001b[1;32mNone\u001b[0m\u001b[1;33m:\u001b[0m  \u001b[1;31m# Only convert once.\u001b[0m\u001b[1;33m\u001b[0m\u001b[1;33m\u001b[0m\u001b[0m\n",
      "\u001b[1;32mc:\\ML\\plant-recognizer\\ML\\lib\\site-packages\\tensorflow\\python\\keras\\callbacks.py\u001b[0m in \u001b[0;36mon_train_batch_end\u001b[1;34m(self, batch, logs)\u001b[0m\n\u001b[0;32m    959\u001b[0m \u001b[1;33m\u001b[0m\u001b[0m\n\u001b[0;32m    960\u001b[0m   \u001b[1;32mdef\u001b[0m \u001b[0mon_train_batch_end\u001b[0m\u001b[1;33m(\u001b[0m\u001b[0mself\u001b[0m\u001b[1;33m,\u001b[0m \u001b[0mbatch\u001b[0m\u001b[1;33m,\u001b[0m \u001b[0mlogs\u001b[0m\u001b[1;33m=\u001b[0m\u001b[1;32mNone\u001b[0m\u001b[1;33m)\u001b[0m\u001b[1;33m:\u001b[0m\u001b[1;33m\u001b[0m\u001b[1;33m\u001b[0m\u001b[0m\n\u001b[1;32m--> 961\u001b[1;33m     \u001b[0mself\u001b[0m\u001b[1;33m.\u001b[0m\u001b[0m_batch_update_progbar\u001b[0m\u001b[1;33m(\u001b[0m\u001b[0mbatch\u001b[0m\u001b[1;33m,\u001b[0m \u001b[0mlogs\u001b[0m\u001b[1;33m)\u001b[0m\u001b[1;33m\u001b[0m\u001b[1;33m\u001b[0m\u001b[0m\n\u001b[0m\u001b[0;32m    962\u001b[0m \u001b[1;33m\u001b[0m\u001b[0m\n\u001b[0;32m    963\u001b[0m   \u001b[1;32mdef\u001b[0m \u001b[0mon_test_batch_end\u001b[0m\u001b[1;33m(\u001b[0m\u001b[0mself\u001b[0m\u001b[1;33m,\u001b[0m \u001b[0mbatch\u001b[0m\u001b[1;33m,\u001b[0m \u001b[0mlogs\u001b[0m\u001b[1;33m=\u001b[0m\u001b[1;32mNone\u001b[0m\u001b[1;33m)\u001b[0m\u001b[1;33m:\u001b[0m\u001b[1;33m\u001b[0m\u001b[1;33m\u001b[0m\u001b[0m\n",
      "\u001b[1;32mc:\\ML\\plant-recognizer\\ML\\lib\\site-packages\\tensorflow\\python\\keras\\callbacks.py\u001b[0m in \u001b[0;36m_batch_update_progbar\u001b[1;34m(self, batch, logs)\u001b[0m\n\u001b[0;32m   1014\u001b[0m     \u001b[1;32mif\u001b[0m \u001b[0mself\u001b[0m\u001b[1;33m.\u001b[0m\u001b[0mverbose\u001b[0m \u001b[1;33m==\u001b[0m \u001b[1;36m1\u001b[0m\u001b[1;33m:\u001b[0m\u001b[1;33m\u001b[0m\u001b[1;33m\u001b[0m\u001b[0m\n\u001b[0;32m   1015\u001b[0m       \u001b[1;31m# Only block async when verbose = 1.\u001b[0m\u001b[1;33m\u001b[0m\u001b[1;33m\u001b[0m\u001b[1;33m\u001b[0m\u001b[0m\n\u001b[1;32m-> 1016\u001b[1;33m       \u001b[0mlogs\u001b[0m \u001b[1;33m=\u001b[0m \u001b[0mtf_utils\u001b[0m\u001b[1;33m.\u001b[0m\u001b[0mto_numpy_or_python_type\u001b[0m\u001b[1;33m(\u001b[0m\u001b[0mlogs\u001b[0m\u001b[1;33m)\u001b[0m\u001b[1;33m\u001b[0m\u001b[1;33m\u001b[0m\u001b[0m\n\u001b[0m\u001b[0;32m   1017\u001b[0m       \u001b[0mself\u001b[0m\u001b[1;33m.\u001b[0m\u001b[0mprogbar\u001b[0m\u001b[1;33m.\u001b[0m\u001b[0mupdate\u001b[0m\u001b[1;33m(\u001b[0m\u001b[0mself\u001b[0m\u001b[1;33m.\u001b[0m\u001b[0mseen\u001b[0m\u001b[1;33m,\u001b[0m \u001b[0mlist\u001b[0m\u001b[1;33m(\u001b[0m\u001b[0mlogs\u001b[0m\u001b[1;33m.\u001b[0m\u001b[0mitems\u001b[0m\u001b[1;33m(\u001b[0m\u001b[1;33m)\u001b[0m\u001b[1;33m)\u001b[0m\u001b[1;33m,\u001b[0m \u001b[0mfinalize\u001b[0m\u001b[1;33m=\u001b[0m\u001b[1;32mFalse\u001b[0m\u001b[1;33m)\u001b[0m\u001b[1;33m\u001b[0m\u001b[1;33m\u001b[0m\u001b[0m\n\u001b[0;32m   1018\u001b[0m \u001b[1;33m\u001b[0m\u001b[0m\n",
      "\u001b[1;32mc:\\ML\\plant-recognizer\\ML\\lib\\site-packages\\tensorflow\\python\\keras\\utils\\tf_utils.py\u001b[0m in \u001b[0;36mto_numpy_or_python_type\u001b[1;34m(tensors)\u001b[0m\n\u001b[0;32m    535\u001b[0m     \u001b[1;32mreturn\u001b[0m \u001b[0mt\u001b[0m  \u001b[1;31m# Don't turn ragged or sparse tensors to NumPy.\u001b[0m\u001b[1;33m\u001b[0m\u001b[1;33m\u001b[0m\u001b[0m\n\u001b[0;32m    536\u001b[0m \u001b[1;33m\u001b[0m\u001b[0m\n\u001b[1;32m--> 537\u001b[1;33m   \u001b[1;32mreturn\u001b[0m \u001b[0mnest\u001b[0m\u001b[1;33m.\u001b[0m\u001b[0mmap_structure\u001b[0m\u001b[1;33m(\u001b[0m\u001b[0m_to_single_numpy_or_python_type\u001b[0m\u001b[1;33m,\u001b[0m \u001b[0mtensors\u001b[0m\u001b[1;33m)\u001b[0m\u001b[1;33m\u001b[0m\u001b[1;33m\u001b[0m\u001b[0m\n\u001b[0m\u001b[0;32m    538\u001b[0m \u001b[1;33m\u001b[0m\u001b[0m\n\u001b[0;32m    539\u001b[0m \u001b[1;33m\u001b[0m\u001b[0m\n",
      "\u001b[1;32mc:\\ML\\plant-recognizer\\ML\\lib\\site-packages\\tensorflow\\python\\util\\nest.py\u001b[0m in \u001b[0;36mmap_structure\u001b[1;34m(func, *structure, **kwargs)\u001b[0m\n\u001b[0;32m    633\u001b[0m \u001b[1;33m\u001b[0m\u001b[0m\n\u001b[0;32m    634\u001b[0m   return pack_sequence_as(\n\u001b[1;32m--> 635\u001b[1;33m       \u001b[0mstructure\u001b[0m\u001b[1;33m[\u001b[0m\u001b[1;36m0\u001b[0m\u001b[1;33m]\u001b[0m\u001b[1;33m,\u001b[0m \u001b[1;33m[\u001b[0m\u001b[0mfunc\u001b[0m\u001b[1;33m(\u001b[0m\u001b[1;33m*\u001b[0m\u001b[0mx\u001b[0m\u001b[1;33m)\u001b[0m \u001b[1;32mfor\u001b[0m \u001b[0mx\u001b[0m \u001b[1;32min\u001b[0m \u001b[0mentries\u001b[0m\u001b[1;33m]\u001b[0m\u001b[1;33m,\u001b[0m\u001b[1;33m\u001b[0m\u001b[1;33m\u001b[0m\u001b[0m\n\u001b[0m\u001b[0;32m    636\u001b[0m       expand_composites=expand_composites)\n\u001b[0;32m    637\u001b[0m \u001b[1;33m\u001b[0m\u001b[0m\n",
      "\u001b[1;32mc:\\ML\\plant-recognizer\\ML\\lib\\site-packages\\tensorflow\\python\\util\\nest.py\u001b[0m in \u001b[0;36m<listcomp>\u001b[1;34m(.0)\u001b[0m\n\u001b[0;32m    633\u001b[0m \u001b[1;33m\u001b[0m\u001b[0m\n\u001b[0;32m    634\u001b[0m   return pack_sequence_as(\n\u001b[1;32m--> 635\u001b[1;33m       \u001b[0mstructure\u001b[0m\u001b[1;33m[\u001b[0m\u001b[1;36m0\u001b[0m\u001b[1;33m]\u001b[0m\u001b[1;33m,\u001b[0m \u001b[1;33m[\u001b[0m\u001b[0mfunc\u001b[0m\u001b[1;33m(\u001b[0m\u001b[1;33m*\u001b[0m\u001b[0mx\u001b[0m\u001b[1;33m)\u001b[0m \u001b[1;32mfor\u001b[0m \u001b[0mx\u001b[0m \u001b[1;32min\u001b[0m \u001b[0mentries\u001b[0m\u001b[1;33m]\u001b[0m\u001b[1;33m,\u001b[0m\u001b[1;33m\u001b[0m\u001b[1;33m\u001b[0m\u001b[0m\n\u001b[0m\u001b[0;32m    636\u001b[0m       expand_composites=expand_composites)\n\u001b[0;32m    637\u001b[0m \u001b[1;33m\u001b[0m\u001b[0m\n",
      "\u001b[1;32mc:\\ML\\plant-recognizer\\ML\\lib\\site-packages\\tensorflow\\python\\keras\\utils\\tf_utils.py\u001b[0m in \u001b[0;36m_to_single_numpy_or_python_type\u001b[1;34m(t)\u001b[0m\n\u001b[0;32m    531\u001b[0m   \u001b[1;32mdef\u001b[0m \u001b[0m_to_single_numpy_or_python_type\u001b[0m\u001b[1;33m(\u001b[0m\u001b[0mt\u001b[0m\u001b[1;33m)\u001b[0m\u001b[1;33m:\u001b[0m\u001b[1;33m\u001b[0m\u001b[1;33m\u001b[0m\u001b[0m\n\u001b[0;32m    532\u001b[0m     \u001b[1;32mif\u001b[0m \u001b[0misinstance\u001b[0m\u001b[1;33m(\u001b[0m\u001b[0mt\u001b[0m\u001b[1;33m,\u001b[0m \u001b[0mops\u001b[0m\u001b[1;33m.\u001b[0m\u001b[0mTensor\u001b[0m\u001b[1;33m)\u001b[0m\u001b[1;33m:\u001b[0m\u001b[1;33m\u001b[0m\u001b[1;33m\u001b[0m\u001b[0m\n\u001b[1;32m--> 533\u001b[1;33m       \u001b[0mx\u001b[0m \u001b[1;33m=\u001b[0m \u001b[0mt\u001b[0m\u001b[1;33m.\u001b[0m\u001b[0mnumpy\u001b[0m\u001b[1;33m(\u001b[0m\u001b[1;33m)\u001b[0m\u001b[1;33m\u001b[0m\u001b[1;33m\u001b[0m\u001b[0m\n\u001b[0m\u001b[0;32m    534\u001b[0m       \u001b[1;32mreturn\u001b[0m \u001b[0mx\u001b[0m\u001b[1;33m.\u001b[0m\u001b[0mitem\u001b[0m\u001b[1;33m(\u001b[0m\u001b[1;33m)\u001b[0m \u001b[1;32mif\u001b[0m \u001b[0mnp\u001b[0m\u001b[1;33m.\u001b[0m\u001b[0mndim\u001b[0m\u001b[1;33m(\u001b[0m\u001b[0mx\u001b[0m\u001b[1;33m)\u001b[0m \u001b[1;33m==\u001b[0m \u001b[1;36m0\u001b[0m \u001b[1;32melse\u001b[0m \u001b[0mx\u001b[0m\u001b[1;33m\u001b[0m\u001b[1;33m\u001b[0m\u001b[0m\n\u001b[0;32m    535\u001b[0m     \u001b[1;32mreturn\u001b[0m \u001b[0mt\u001b[0m  \u001b[1;31m# Don't turn ragged or sparse tensors to NumPy.\u001b[0m\u001b[1;33m\u001b[0m\u001b[1;33m\u001b[0m\u001b[0m\n",
      "\u001b[1;32mc:\\ML\\plant-recognizer\\ML\\lib\\site-packages\\tensorflow\\python\\framework\\ops.py\u001b[0m in \u001b[0;36mnumpy\u001b[1;34m(self)\u001b[0m\n\u001b[0;32m   1061\u001b[0m     \"\"\"\n\u001b[0;32m   1062\u001b[0m     \u001b[1;31m# TODO(slebedev): Consider avoiding a copy for non-CPU or remote tensors.\u001b[0m\u001b[1;33m\u001b[0m\u001b[1;33m\u001b[0m\u001b[1;33m\u001b[0m\u001b[0m\n\u001b[1;32m-> 1063\u001b[1;33m     \u001b[0mmaybe_arr\u001b[0m \u001b[1;33m=\u001b[0m \u001b[0mself\u001b[0m\u001b[1;33m.\u001b[0m\u001b[0m_numpy\u001b[0m\u001b[1;33m(\u001b[0m\u001b[1;33m)\u001b[0m  \u001b[1;31m# pylint: disable=protected-access\u001b[0m\u001b[1;33m\u001b[0m\u001b[1;33m\u001b[0m\u001b[0m\n\u001b[0m\u001b[0;32m   1064\u001b[0m     \u001b[1;32mreturn\u001b[0m \u001b[0mmaybe_arr\u001b[0m\u001b[1;33m.\u001b[0m\u001b[0mcopy\u001b[0m\u001b[1;33m(\u001b[0m\u001b[1;33m)\u001b[0m \u001b[1;32mif\u001b[0m \u001b[0misinstance\u001b[0m\u001b[1;33m(\u001b[0m\u001b[0mmaybe_arr\u001b[0m\u001b[1;33m,\u001b[0m \u001b[0mnp\u001b[0m\u001b[1;33m.\u001b[0m\u001b[0mndarray\u001b[0m\u001b[1;33m)\u001b[0m \u001b[1;32melse\u001b[0m \u001b[0mmaybe_arr\u001b[0m\u001b[1;33m\u001b[0m\u001b[1;33m\u001b[0m\u001b[0m\n\u001b[0;32m   1065\u001b[0m \u001b[1;33m\u001b[0m\u001b[0m\n",
      "\u001b[1;32mc:\\ML\\plant-recognizer\\ML\\lib\\site-packages\\tensorflow\\python\\framework\\ops.py\u001b[0m in \u001b[0;36m_numpy\u001b[1;34m(self)\u001b[0m\n\u001b[0;32m   1027\u001b[0m   \u001b[1;32mdef\u001b[0m \u001b[0m_numpy\u001b[0m\u001b[1;33m(\u001b[0m\u001b[0mself\u001b[0m\u001b[1;33m)\u001b[0m\u001b[1;33m:\u001b[0m\u001b[1;33m\u001b[0m\u001b[1;33m\u001b[0m\u001b[0m\n\u001b[0;32m   1028\u001b[0m     \u001b[1;32mtry\u001b[0m\u001b[1;33m:\u001b[0m\u001b[1;33m\u001b[0m\u001b[1;33m\u001b[0m\u001b[0m\n\u001b[1;32m-> 1029\u001b[1;33m       \u001b[1;32mreturn\u001b[0m \u001b[0mself\u001b[0m\u001b[1;33m.\u001b[0m\u001b[0m_numpy_internal\u001b[0m\u001b[1;33m(\u001b[0m\u001b[1;33m)\u001b[0m\u001b[1;33m\u001b[0m\u001b[1;33m\u001b[0m\u001b[0m\n\u001b[0m\u001b[0;32m   1030\u001b[0m     \u001b[1;32mexcept\u001b[0m \u001b[0mcore\u001b[0m\u001b[1;33m.\u001b[0m\u001b[0m_NotOkStatusException\u001b[0m \u001b[1;32mas\u001b[0m \u001b[0me\u001b[0m\u001b[1;33m:\u001b[0m  \u001b[1;31m# pylint: disable=protected-access\u001b[0m\u001b[1;33m\u001b[0m\u001b[1;33m\u001b[0m\u001b[0m\n\u001b[0;32m   1031\u001b[0m       \u001b[0msix\u001b[0m\u001b[1;33m.\u001b[0m\u001b[0mraise_from\u001b[0m\u001b[1;33m(\u001b[0m\u001b[0mcore\u001b[0m\u001b[1;33m.\u001b[0m\u001b[0m_status_to_exception\u001b[0m\u001b[1;33m(\u001b[0m\u001b[0me\u001b[0m\u001b[1;33m.\u001b[0m\u001b[0mcode\u001b[0m\u001b[1;33m,\u001b[0m \u001b[0me\u001b[0m\u001b[1;33m.\u001b[0m\u001b[0mmessage\u001b[0m\u001b[1;33m)\u001b[0m\u001b[1;33m,\u001b[0m \u001b[1;32mNone\u001b[0m\u001b[1;33m)\u001b[0m  \u001b[1;31m# pylint: disable=protected-access\u001b[0m\u001b[1;33m\u001b[0m\u001b[1;33m\u001b[0m\u001b[0m\n",
      "\u001b[1;31mKeyboardInterrupt\u001b[0m: "
     ]
    }
   ],
   "source": [
    "history = model.fit(X_train[:], y_train[:], batch_size=48, epochs=1000, validation_data=(X_test[:], y_test[:]))\n",
    "print(\"정확도 : %.4f\" % (model.evaluate(test)[1]))"
   ]
  },
  {
   "source": [
    "# Test"
   ],
   "cell_type": "markdown",
   "metadata": {}
  },
  {
   "cell_type": "code",
   "execution_count": null,
   "metadata": {},
   "outputs": [],
   "source": [
    "def plot_history(histories, key='binary_crossentropy'):\n",
    "    plt.figure(figsize=(16,10))\n",
    "\n",
    "    for name, history in histories:\n",
    "        val = plt.plot(history.epoch, history.history['val_'+key],\n",
    "                    '--', label=name.title()+' Val')\n",
    "        plt.plot(history.epoch, history.history[key], color=val[0].get_color(),\n",
    "                label=name.title()+' Train')\n",
    "\n",
    "    plt.xlabel('Epochs')\n",
    "    plt.ylabel(key.replace('_',' ').title())\n",
    "    plt.legend()\n",
    "\n",
    "    plt.xlim([0,max(history.epoch)])"
   ]
  },
  {
   "cell_type": "code",
   "execution_count": null,
   "metadata": {},
   "outputs": [],
   "source": [
    "plot_history([('', history)], 'accuracy')"
   ]
  },
  {
   "cell_type": "code",
   "execution_count": null,
   "metadata": {},
   "outputs": [],
   "source": [
    "model = Sequential([\n",
    "        Conv2D(32, (7,7), padding=\"same\", input_shape=X_train.shape[1:], activation='relu', strides=(2, 2)),\n",
    "        MaxPooling2D(pool_size=(3,3), strides=(2,2)),\n",
    "        #Dropout(0.25),\n",
    "\n",
    "        Conv2D(64, (4,4), padding=\"same\", activation='relu'),\n",
    "        Conv2D(64, (4,4), padding=\"same\", activation='relu'),\n",
    "        MaxPooling2D(pool_size=(3,3), strides=(2,2)),\n",
    "        #Dropout(0.25),\n",
    "\n",
    "        Conv2D(128, (2,2), padding=\"same\", activation='relu'),\n",
    "        Conv2D(128, (2,2), padding=\"same\", activation='relu'),\n",
    "        MaxPooling2D(pool_size=(3,3), strides=(2,2)),\n",
    "        #Dropout(0.25),\n",
    "\n",
    "        Flatten(),\n",
    "        #Dense(4096, activation='relu',kernel_regularizer=l2(l2_ratio)),\n",
    "        Dense(1024, activation='relu',kernel_regularizer=l2(l2_ratio)),\n",
    "        #Dense(512, activation='relu',kernel_regularizer=l2(l2_ratio)),\n",
    "        Dense(classes, activation='softmax',kernel_regularizer=l2(l2_ratio))\n",
    "    ])"
   ]
  }
 ],
 "metadata": {
  "kernelspec": {
   "name": "Python 3.8.6 64-bit ('ML')",
   "display_name": "Python 3.8.6 64-bit ('ML')",
   "metadata": {
    "interpreter": {
     "hash": "0d637d56708b5b1bb758d06434c40cfbe4ca31034e9d00bfb05663f8a5792e9e"
    }
   }
  },
  "language_info": {
   "codemirror_mode": {
    "name": "ipython",
    "version": 3
   },
   "file_extension": ".py",
   "mimetype": "text/x-python",
   "name": "python",
   "nbconvert_exporter": "python",
   "pygments_lexer": "ipython3",
   "version": "3.8.6-final"
  }
 },
 "nbformat": 4,
 "nbformat_minor": 4
}